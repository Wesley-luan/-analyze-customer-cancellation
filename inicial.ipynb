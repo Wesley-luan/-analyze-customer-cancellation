{
 "cells": [
  {
   "cell_type": "markdown",
   "metadata": {},
   "source": [
    "# Python Insights - Analisando Dados com Python\n",
    "\n",
    "### Case - Cancelamento de Clientes\n",
    "\n",
    "Você foi contratado por uma empresa com mais de 800 mil clientes para um projeto de Dados. Recentemente a empresa percebeu que da sua base total de clientes, a maioria são clientes inativos, ou seja, que já cancelaram o serviço.\n",
    "\n",
    "Precisando melhorar seus resultados ela quer conseguir entender os principais motivos desses cancelamentos e quais as ações mais eficientes para reduzir esse número.\n",
    "\n",
    "Base de dados e arquivos: https://drive.google.com/drive/folders/1uDesZePdkhiraJmiyeZ-w5tfc8XsNYFZ?usp=drive_link"
   ]
  },
  {
   "cell_type": "code",
   "execution_count": 19,
   "metadata": {},
   "outputs": [],
   "source": [
    "#Passo a Passo\n",
    "#Importar os dados\n",
    "#visualizar a base de dados\n",
    "#corrigir as cagadas do banco de dados\n",
    "#analise dos cancelamentos\n",
    "#analise da causa dos cancelamentos\n",
    "\n",
    "# trabalhar com base de dados -> pandas\n",
    "# para demonstrar o Grafico de dashboard -> Plotly\n",
    "\n",
    "#!pip install pandas numpy openpyxl nbformat ipkernel plotly\n"
   ]
  },
  {
   "cell_type": "code",
   "execution_count": null,
   "metadata": {},
   "outputs": [],
   "source": [
    "#Importar os dados\n",
    "\n",
    "\n",
    "import pandas as pd\n",
    "\n",
    "tabela = pd.read_csv(\"cancelamentos.csv\")\n",
    "\n",
    "display(tabela)\n",
    "\n",
    "#visualizar a base de dados\n",
    "tabela = tabela.drop(columns=\"CustomerID\")\n",
    "\n",
    "display(tabela)\n"
   ]
  },
  {
   "cell_type": "code",
   "execution_count": null,
   "metadata": {},
   "outputs": [],
   "source": [
    "#corrigir as cagadas do banco de dados\n",
    "#valores vazis de dados\n",
    "\n",
    "display(tabela.info())\n",
    "tabela = tabela.dropna()  #joga os valores sem dados fora\n",
    "display(tabela)"
   ]
  },
  {
   "cell_type": "code",
   "execution_count": null,
   "metadata": {},
   "outputs": [],
   "source": [
    "display(tabela[\"cancelou\"].value_counts(normalize=True)) #normalize percentual\n",
    "display(tabela[\"cancelou\"].value_counts(normalize=True).map(\"{:.1%}\".format)) #0 sem casas decimais, 1 uma casa decimal\n",
    "display(tabela[\"cancelou\"].value_counts()) \n"
   ]
  },
  {
   "cell_type": "code",
   "execution_count": null,
   "metadata": {},
   "outputs": [],
   "source": [
    "#analise dos cancelamentos\n",
    "#analise da causa dos cancelamentos\n",
    "\n",
    "import plotly.express as px\n",
    "\n",
    "for coluna in tabela.columns:\n",
    "\n",
    "    grafico = px.histogram(tabela, x=coluna, color=\"cancelou\") #diferencia as coisas atraves de cor\n",
    "\n",
    "    #depois exibe o grafico\n",
    "    grafico.show() \n"
   ]
  },
  {
   "cell_type": "code",
   "execution_count": null,
   "metadata": {},
   "outputs": [],
   "source": [
    "## analise dos cancelamentos\n",
    "# se o cliente liga mais de 4 vezes para o call center, ele cancela\n",
    "    # criar um chamado para que caso o cliente ligar mais de 3 vezes para o call center, resolver o mais rapido possivel\n",
    "# se o cliente atrasar mais de 20 o pagamento ele cancela\n",
    "    # criar um chamado para que caso o cliente atrasar mais de 10 o pagamento, resolver o mais rapido possivel\n",
    "# Todos os clientes do contrato mensal cancelam \n",
    "    # pode oferecer ao cliente descontros anuais e trimestrais\n",
    "\n",
    "tabela = tabela [tabela[\"duracao_contrato\"] != \"Monthly\"] # sem contrato mensal\n",
    "tabela = tabela [tabela[\"ligacoes_callcenter\"]<= 4] # sem 4 ligacoes do call center\n",
    "tabela = tabela [tabela[\"dias_atraso\"]<= 20] # sem atrasar o pagamento\n",
    "\n",
    "\n",
    "display(tabela[\"cancelou\"].value_counts(normalize=True).map(\"{:.1%}\".format))"
   ]
  },
  {
   "cell_type": "code",
   "execution_count": null,
   "metadata": {},
   "outputs": [],
   "source": []
  }
 ],
 "metadata": {
  "kernelspec": {
   "display_name": "base",
   "language": "python",
   "name": "python3"
  },
  "language_info": {
   "codemirror_mode": {
    "name": "ipython",
    "version": 3
   },
   "file_extension": ".py",
   "mimetype": "text/x-python",
   "name": "python",
   "nbconvert_exporter": "python",
   "pygments_lexer": "ipython3",
   "version": "3.12.1"
  },
  "orig_nbformat": 4
 },
 "nbformat": 4,
 "nbformat_minor": 2
}
